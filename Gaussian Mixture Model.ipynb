{
 "cells": [
  {
   "cell_type": "code",
   "execution_count": 1,
   "metadata": {},
   "outputs": [],
   "source": [
    "import numpy as np  # linear algebra\n",
    "import pandas as pd  # data processing, CSV file I/O (e.g. pd.read_csv)\n",
    "from sklearn.preprocessing import LabelEncoder, StandardScaler\n",
    "from sklearn.mixture import GaussianMixture\n",
    "from sklearn import metrics\n",
    "import matplotlib.pyplot as plt\n",
    "from sklearn.metrics import silhouette_score, silhouette_samples\n",
    "import warnings\n",
    "\n",
    "warnings.filterwarnings('ignore')"
   ]
  },
  {
   "cell_type": "code",
   "execution_count": 2,
   "metadata": {},
   "outputs": [
    {
     "data": {
      "text/html": [
       "<div>\n",
       "<style scoped>\n",
       "    .dataframe tbody tr th:only-of-type {\n",
       "        vertical-align: middle;\n",
       "    }\n",
       "\n",
       "    .dataframe tbody tr th {\n",
       "        vertical-align: top;\n",
       "    }\n",
       "\n",
       "    .dataframe thead th {\n",
       "        text-align: right;\n",
       "    }\n",
       "</style>\n",
       "<table border=\"1\" class=\"dataframe\">\n",
       "  <thead>\n",
       "    <tr style=\"text-align: right;\">\n",
       "      <th></th>\n",
       "      <th>Label</th>\n",
       "      <th>brand</th>\n",
       "      <th>name</th>\n",
       "      <th>price</th>\n",
       "      <th>rank</th>\n",
       "      <th>Combination</th>\n",
       "      <th>Dry</th>\n",
       "      <th>Normal</th>\n",
       "      <th>Oily</th>\n",
       "      <th>Sensitive</th>\n",
       "      <th>ingredients</th>\n",
       "    </tr>\n",
       "  </thead>\n",
       "  <tbody>\n",
       "    <tr>\n",
       "      <th>0</th>\n",
       "      <td>Cleanser</td>\n",
       "      <td>ALGENIST</td>\n",
       "      <td>GENIUS Ultimate Anti-Aging Melting Cleanser</td>\n",
       "      <td>38</td>\n",
       "      <td>4.1</td>\n",
       "      <td>0</td>\n",
       "      <td>0</td>\n",
       "      <td>0</td>\n",
       "      <td>0</td>\n",
       "      <td>0</td>\n",
       "      <td>['c12-15 alkyl benzoate', 'ethylhexyl palmitat...</td>\n",
       "    </tr>\n",
       "    <tr>\n",
       "      <th>1</th>\n",
       "      <td>Cleanser</td>\n",
       "      <td>ALGENIST</td>\n",
       "      <td>Hydrating Essence Toner</td>\n",
       "      <td>25</td>\n",
       "      <td>4.4</td>\n",
       "      <td>0</td>\n",
       "      <td>0</td>\n",
       "      <td>0</td>\n",
       "      <td>0</td>\n",
       "      <td>0</td>\n",
       "      <td>['water', 'butylene glycol', 'sodium pca', 'wa...</td>\n",
       "    </tr>\n",
       "    <tr>\n",
       "      <th>2</th>\n",
       "      <td>Cleanser</td>\n",
       "      <td>ALGENIST</td>\n",
       "      <td>Multi-Perfecting Detoxifying Exfoliator</td>\n",
       "      <td>38</td>\n",
       "      <td>4.6</td>\n",
       "      <td>0</td>\n",
       "      <td>0</td>\n",
       "      <td>0</td>\n",
       "      <td>0</td>\n",
       "      <td>0</td>\n",
       "      <td>['water', 'caprylic/capric triglyceride', 'hyd...</td>\n",
       "    </tr>\n",
       "    <tr>\n",
       "      <th>3</th>\n",
       "      <td>Cleanser</td>\n",
       "      <td>AMOREPACIFIC</td>\n",
       "      <td>Treatment Cleansing Foam</td>\n",
       "      <td>50</td>\n",
       "      <td>4.5</td>\n",
       "      <td>1</td>\n",
       "      <td>0</td>\n",
       "      <td>1</td>\n",
       "      <td>1</td>\n",
       "      <td>0</td>\n",
       "      <td>['water', 'glycerin', 'stearic acid', 'myristi...</td>\n",
       "    </tr>\n",
       "    <tr>\n",
       "      <th>4</th>\n",
       "      <td>Cleanser</td>\n",
       "      <td>AMOREPACIFIC</td>\n",
       "      <td>Treatment Enzyme Peel</td>\n",
       "      <td>60</td>\n",
       "      <td>4.7</td>\n",
       "      <td>1</td>\n",
       "      <td>1</td>\n",
       "      <td>1</td>\n",
       "      <td>1</td>\n",
       "      <td>1</td>\n",
       "      <td>['mannitol', 'sodium cocoyl glycinate', 'sodiu...</td>\n",
       "    </tr>\n",
       "  </tbody>\n",
       "</table>\n",
       "</div>"
      ],
      "text/plain": [
       "      Label         brand                                         name  price  \\\n",
       "0  Cleanser      ALGENIST  GENIUS Ultimate Anti-Aging Melting Cleanser     38   \n",
       "1  Cleanser      ALGENIST                      Hydrating Essence Toner     25   \n",
       "2  Cleanser      ALGENIST      Multi-Perfecting Detoxifying Exfoliator     38   \n",
       "3  Cleanser  AMOREPACIFIC                     Treatment Cleansing Foam     50   \n",
       "4  Cleanser  AMOREPACIFIC                        Treatment Enzyme Peel     60   \n",
       "\n",
       "   rank  Combination  Dry  Normal  Oily  Sensitive  \\\n",
       "0   4.1            0    0       0     0          0   \n",
       "1   4.4            0    0       0     0          0   \n",
       "2   4.6            0    0       0     0          0   \n",
       "3   4.5            1    0       1     1          0   \n",
       "4   4.7            1    1       1     1          1   \n",
       "\n",
       "                                         ingredients  \n",
       "0  ['c12-15 alkyl benzoate', 'ethylhexyl palmitat...  \n",
       "1  ['water', 'butylene glycol', 'sodium pca', 'wa...  \n",
       "2  ['water', 'caprylic/capric triglyceride', 'hyd...  \n",
       "3  ['water', 'glycerin', 'stearic acid', 'myristi...  \n",
       "4  ['mannitol', 'sodium cocoyl glycinate', 'sodiu...  "
      ]
     },
     "execution_count": 2,
     "metadata": {},
     "output_type": "execute_result"
    }
   ],
   "source": [
    "df = pd.read_csv(\"clean_ingr_dataset.csv\")\n",
    "df.head()"
   ]
  },
  {
   "cell_type": "code",
   "execution_count": 3,
   "metadata": {},
   "outputs": [],
   "source": [
    "columns = df[['Combination', 'Dry', 'Normal', 'Oily', 'Sensitive']]\n",
    "skin_mapping = {\n",
    "    'Dry': 'D',\n",
    "    'Oily': 'O',\n",
    "    'Sensitive': 'S',\n",
    "    'Combination': 'C',\n",
    "    'Normal': 'N'\n",
    "}\n",
    "skintype = df.apply(lambda row: ','.join(\n",
    "    [skin_mapping[col] for col in columns if row[col] == 1]) or 'NO',\n",
    "                    axis=1)\n",
    "df['skintype'] = skintype"
   ]
  },
  {
   "cell_type": "code",
   "execution_count": 4,
   "metadata": {},
   "outputs": [
    {
     "data": {
      "text/html": [
       "<div>\n",
       "<style scoped>\n",
       "    .dataframe tbody tr th:only-of-type {\n",
       "        vertical-align: middle;\n",
       "    }\n",
       "\n",
       "    .dataframe tbody tr th {\n",
       "        vertical-align: top;\n",
       "    }\n",
       "\n",
       "    .dataframe thead th {\n",
       "        text-align: right;\n",
       "    }\n",
       "</style>\n",
       "<table border=\"1\" class=\"dataframe\">\n",
       "  <thead>\n",
       "    <tr style=\"text-align: right;\">\n",
       "      <th></th>\n",
       "      <th>Label</th>\n",
       "      <th>brand</th>\n",
       "      <th>price</th>\n",
       "      <th>rank</th>\n",
       "      <th>Combination</th>\n",
       "      <th>Dry</th>\n",
       "      <th>Normal</th>\n",
       "      <th>Oily</th>\n",
       "      <th>Sensitive</th>\n",
       "    </tr>\n",
       "  </thead>\n",
       "  <tbody>\n",
       "    <tr>\n",
       "      <th>0</th>\n",
       "      <td>0</td>\n",
       "      <td>0</td>\n",
       "      <td>-0.390952</td>\n",
       "      <td>-0.080830</td>\n",
       "      <td>0</td>\n",
       "      <td>0</td>\n",
       "      <td>0</td>\n",
       "      <td>0</td>\n",
       "      <td>0</td>\n",
       "    </tr>\n",
       "    <tr>\n",
       "      <th>1</th>\n",
       "      <td>0</td>\n",
       "      <td>0</td>\n",
       "      <td>-0.677571</td>\n",
       "      <td>0.388994</td>\n",
       "      <td>0</td>\n",
       "      <td>0</td>\n",
       "      <td>0</td>\n",
       "      <td>0</td>\n",
       "      <td>0</td>\n",
       "    </tr>\n",
       "    <tr>\n",
       "      <th>2</th>\n",
       "      <td>0</td>\n",
       "      <td>0</td>\n",
       "      <td>-0.390952</td>\n",
       "      <td>0.702211</td>\n",
       "      <td>0</td>\n",
       "      <td>0</td>\n",
       "      <td>0</td>\n",
       "      <td>0</td>\n",
       "      <td>0</td>\n",
       "    </tr>\n",
       "    <tr>\n",
       "      <th>3</th>\n",
       "      <td>0</td>\n",
       "      <td>1</td>\n",
       "      <td>-0.126380</td>\n",
       "      <td>0.545603</td>\n",
       "      <td>1</td>\n",
       "      <td>0</td>\n",
       "      <td>1</td>\n",
       "      <td>1</td>\n",
       "      <td>0</td>\n",
       "    </tr>\n",
       "    <tr>\n",
       "      <th>4</th>\n",
       "      <td>0</td>\n",
       "      <td>1</td>\n",
       "      <td>0.094097</td>\n",
       "      <td>0.858819</td>\n",
       "      <td>1</td>\n",
       "      <td>1</td>\n",
       "      <td>1</td>\n",
       "      <td>1</td>\n",
       "      <td>1</td>\n",
       "    </tr>\n",
       "  </tbody>\n",
       "</table>\n",
       "</div>"
      ],
      "text/plain": [
       "   Label  brand     price      rank  Combination  Dry  Normal  Oily  Sensitive\n",
       "0      0      0 -0.390952 -0.080830            0    0       0     0          0\n",
       "1      0      0 -0.677571  0.388994            0    0       0     0          0\n",
       "2      0      0 -0.390952  0.702211            0    0       0     0          0\n",
       "3      0      1 -0.126380  0.545603            1    0       1     1          0\n",
       "4      0      1  0.094097  0.858819            1    1       1     1          1"
      ]
     },
     "execution_count": 4,
     "metadata": {},
     "output_type": "execute_result"
    }
   ],
   "source": [
    "df2 = df.drop(['name', 'ingredients', 'skintype'], axis=1)\n",
    "X = df2.copy()\n",
    "\n",
    "le = LabelEncoder()\n",
    "X['Label'] = le.fit_transform(X['Label'])\n",
    "X['brand'] = le.fit_transform(X['brand'])\n",
    "df2['Label'] = le.fit_transform(df2['Label'])\n",
    "\n",
    "cols = ['price', 'rank']\n",
    "ss = StandardScaler()\n",
    "X_t = ss.fit_transform(X[cols])\n",
    "X[cols] = X_t\n",
    "\n",
    "X.head()"
   ]
  },
  {
   "cell_type": "code",
   "execution_count": 24,
   "metadata": {},
   "outputs": [
    {
     "name": "stderr",
     "output_type": "stream",
     "text": [
      "C:\\Users\\User\\AppData\\Local\\Temp/ipykernel_9100/2006946227.py:17: UserWarning: color is redundantly defined by the 'color' keyword argument and the fmt string \"bo-\" (-> color='b'). The keyword argument will take precedence.\n",
      "  plt.plot(K, S, 'bo-', color='black')\n"
     ]
    },
    {
     "data": {
      "image/png": "[encoded data removed]",
      "text/plain": [
       "<Figure size 4800x2400 with 1 Axes>"
      ]
     },
     "metadata": {
      "needs_background": "light"
     },
     "output_type": "display_data"
    }
   ],
   "source": [
    "S = []\n",
    "\n",
    "# Range of clusters to try (2 to 10)\n",
    "K = range(2, 11)\n",
    "\n",
    "for k in K:\n",
    "    # Set the model and its parameters\n",
    "    model = GaussianMixture(n_components=k, n_init=20, init_params='k-means++')\n",
    "    # Fit the model\n",
    "    labels = model.fit_predict(X)\n",
    "    # Calculate Silhoutte Score and append to a list\n",
    "    S.append(metrics.silhouette_score(X, labels))\n",
    "\n",
    "# Plot the resulting Silhouette scores on a graph\n",
    "plt.figure(figsize=(16, 8), dpi=300)\n",
    "plt.plot(K, S, 'bo-', color='black')\n",
    "plt.xlabel('k')\n",
    "plt.ylabel('Silhouette Score')\n",
    "plt.title('Identify the number of clusters using Silhouette Score')\n",
    "plt.show()"
   ]
  },
  {
   "cell_type": "code",
   "execution_count": 259,
   "metadata": {},
   "outputs": [],
   "source": [
    "model = GaussianMixture(\n",
    "    n_components=3,  # this is the number of clusters\n",
    "    covariance_type=\n",
    "    'full',  # {‘full’, ‘tied’, ‘diag’, ‘spherical’}, default=’full’\n",
    "    max_iter=300,  # the number of EM iterations to perform. default=100\n",
    "    n_init=1,  # the number of initializations to perform. default = 1\n",
    "    init_params=\n",
    "    'kmeans',  # the method used to initialize the weights, the means and the precisions. {'random' or default='k-means'}\n",
    "    verbose=0,  # default 0, {0,1,2}\n",
    "    random_state=42  # for reproducibility\n",
    ")\n"
   ]
  },
  {
   "cell_type": "code",
   "execution_count": 260,
   "metadata": {},
   "outputs": [],
   "source": [
    "clust = model.fit(X)"
   ]
  },
  {
   "cell_type": "code",
   "execution_count": 261,
   "metadata": {},
   "outputs": [],
   "source": [
    "labels = model.predict(X)"
   ]
  },
  {
   "cell_type": "code",
   "execution_count": 262,
   "metadata": {},
   "outputs": [
    {
     "data": {
      "text/plain": [
       "array([2, 2, 2, ..., 2, 2, 2], dtype=int64)"
      ]
     },
     "execution_count": 262,
     "metadata": {},
     "output_type": "execute_result"
    }
   ],
   "source": [
    "labels"
   ]
  },
  {
   "cell_type": "code",
   "execution_count": 263,
   "metadata": {},
   "outputs": [
    {
     "data": {
      "text/plain": [
       "-0.03986970634187037"
      ]
     },
     "execution_count": 263,
     "metadata": {},
     "output_type": "execute_result"
    }
   ],
   "source": [
    "silhouette_score_average = silhouette_score(X, model.predict(X))\n",
    "silhouette_score_average"
   ]
  },
  {
   "cell_type": "code",
   "execution_count": 237,
   "metadata": {},
   "outputs": [
    {
     "name": "stdout",
     "output_type": "stream",
     "text": [
      " This Many Clusters: 2 | Number of Negative Values: 713\n",
      " This Many Clusters: 3 | Number of Negative Values: 917\n",
      " This Many Clusters: 4 | Number of Negative Values: 993\n",
      " This Many Clusters: 5 | Number of Negative Values: 1407\n",
      " This Many Clusters: 6 | Number of Negative Values: 1388\n",
      " This Many Clusters: 7 | Number of Negative Values: 1383\n",
      " This Many Clusters: 8 | Number of Negative Values: 1397\n",
      " This Many Clusters: 9 | Number of Negative Values: 1366\n",
      " This Many Clusters: 10 | Number of Negative Values: 1348\n",
      " This Many Clusters: 11 | Number of Negative Values: 1365\n",
      " This Many Clusters: 12 | Number of Negative Values: 1360\n",
      " This Many Clusters: 13 | Number of Negative Values: 1380\n",
      " This Many Clusters: 14 | Number of Negative Values: 1342\n",
      " This Many Clusters: 15 | Number of Negative Values: 1309\n",
      " This Many Clusters: 16 | Number of Negative Values: 1343\n",
      " This Many Clusters: 17 | Number of Negative Values: 1342\n",
      " This Many Clusters: 18 | Number of Negative Values: 1330\n",
      " This Many Clusters: 19 | Number of Negative Values: 1246\n"
     ]
    }
   ],
   "source": [
    "bad_k_values = {}\n",
    "\n",
    "# remember, anything past 15 looked really good based on the inertia\n",
    "possible_K_values = [i for i in range(2, 20)]\n",
    "\n",
    "# we start with 1, as we can not have 0 clusters in k means\n",
    "# iterate through each of our values\n",
    "for each_value in possible_K_values:\n",
    "\n",
    "    # iterate through, taking each value from\n",
    "    model = GaussianMixture(n_components=each_value,\n",
    "                            init_params='kmeans',\n",
    "                            random_state=32)\n",
    "\n",
    "    # fit it\n",
    "    model.fit(X)\n",
    "\n",
    "    # find each silhouette score\n",
    "    silhouette_score_individual = silhouette_samples(X, model.predict(X))\n",
    "\n",
    "    # iterate through to find any negative values\n",
    "    for each_silhouette in silhouette_score_individual:\n",
    "\n",
    "        # if we find a negative, lets start counting them\n",
    "        if each_silhouette < 0:\n",
    "\n",
    "            if each_value not in bad_k_values:\n",
    "                bad_k_values[each_value] = 1\n",
    "\n",
    "            else:\n",
    "                bad_k_values[each_value] += 1\n",
    "\n",
    "for key, val in bad_k_values.items():\n",
    "    print(f' This Many Clusters: {key} | Number of Negative Values: {val}')"
   ]
  },
  {
   "cell_type": "code",
   "execution_count": 264,
   "metadata": {},
   "outputs": [],
   "source": [
    "df2['Label'] = le.fit_transform(df2['Label'])"
   ]
  },
  {
   "cell_type": "code",
   "execution_count": 265,
   "metadata": {},
   "outputs": [],
   "source": [
    "df2['cluster_label'] = labels"
   ]
  },
  {
   "cell_type": "code",
   "execution_count": 257,
   "metadata": {},
   "outputs": [],
   "source": [
    "from scipy.spatial import distance"
   ]
  },
  {
   "cell_type": "code",
   "execution_count": 241,
   "metadata": {},
   "outputs": [],
   "source": [
    "def nearest(product_index, cluster_points, cluster_no):\n",
    "    distances = []\n",
    "    #centroid = kmeansOpt.cluster_centers_[cluster_no]\n",
    "    #prod_dist = distance.euclidean(X.loc[product_index], centroid)\n",
    "    given_point = X.loc[product_index]\n",
    "    for point in cluster_points:\n",
    "        if point != product_index:\n",
    "            dist = distance.euclidean(X.loc[point], given_point)\n",
    "            distances.append((point, dist))\n",
    "    distances.sort(key=lambda x: x[1])\n",
    "    if (len(distances) < 5):\n",
    "        return distances\n",
    "    else:\n",
    "        return distances[:5]\n"
   ]
  },
  {
   "cell_type": "code",
   "execution_count": 242,
   "metadata": {},
   "outputs": [],
   "source": [
    "def recommendations(product_name):\n",
    "\n",
    "    product_index = df[df['name'] == product_name].index[0]\n",
    "\n",
    "    cluster_label = df2.loc[product_index, 'cluster_label']\n",
    "    cluster_points = df2[df2['cluster_label'] == cluster_label].index\n",
    "\n",
    "    # Extract the nearest points (excluding the user chosen product itself)\n",
    "    nearest_points = nearest(product_index, cluster_points, cluster_label)\n",
    "\n",
    "    label = df.loc[product_index, 'Label']\n",
    "    brand = df.loc[product_index, 'brand']\n",
    "    price = df.loc[product_index, 'price']\n",
    "    rank = df.loc[product_index, 'rank']\n",
    "    skintype = df.loc[product_index, 'skintype']\n",
    "\n",
    "    #Print the 5 nearest points in the same cluster to the user chosen product\n",
    "    print(\n",
    "        f\"5 Nearest Points in Cluster {cluster_label} to '{product_name} ({label}, {brand}, {price}£, {rank}, [{skintype}])':\"\n",
    "    )\n",
    "\n",
    "    recommended_products = []\n",
    "\n",
    "    for point in nearest_points:\n",
    "        product_label = df.loc[point[0], 'Label']\n",
    "        product_brand = df.loc[point[0], 'brand']\n",
    "        product_price = df.loc[point[0], 'price']\n",
    "        product_rank = df.loc[point[0], 'rank']\n",
    "        product_title = df.loc[point[0], 'name']\n",
    "        product_skintype = df.loc[point[0], 'skintype']\n",
    "        distance = point[1]\n",
    "        recommended_products.append(\n",
    "            (product_title, product_label, product_brand, product_price,\n",
    "             product_rank, product_skintype, distance))\n",
    "\n",
    "    for product in recommended_products:\n",
    "        print(\n",
    "            f'{product[0]} ({product[1]}, {product[2]}, {product[3]}£, {product[4]}, [{product[5]}]), Distance: {product[6]}'\n",
    "        )\n"
   ]
  },
  {
   "cell_type": "code",
   "execution_count": 217,
   "metadata": {},
   "outputs": [],
   "source": [
    "def recommendations_multiple(products_list):\n",
    "    all_nearest = []  #5 nearest points of every product in list\n",
    "    print(\"Recommendations based on products: \")\n",
    "    for product in products_list:\n",
    "        product_index = df[df['name'] == product].index[0]\n",
    "        cluster_label = df2.loc[product_index, 'cluster_label']\n",
    "        cluster_points = df2[df2['cluster_label'] == cluster_label].index\n",
    "\n",
    "        label = df.loc[product_index, 'Label']\n",
    "        brand = df.loc[product_index, 'brand']\n",
    "        price = df.loc[product_index, 'price']\n",
    "        rank = df.loc[product_index, 'rank']\n",
    "        skintype = df.loc[product_index, 'skintype']\n",
    "        print(f\"{product} ({label}, {brand}, {price}£, {rank}, [{skintype}])\")\n",
    "\n",
    "        # Extract the nearest points (excluding the user chosen product itself)\n",
    "        nearest_points = nearest(product_index, cluster_points, cluster_label)\n",
    "        for point in nearest_points:\n",
    "            all_nearest.append(point)\n",
    "    all_nearest.sort(key=lambda x: x[1])\n",
    "\n",
    "    nearest_ten = []\n",
    "    if (len(all_nearest) < 10):\n",
    "        nearest_ten = all_nearest\n",
    "    else:\n",
    "        nearest_ten = all_nearest[:10]\n",
    "    recommended_products = []\n",
    "    print(\"\\n\")\n",
    "\n",
    "    for point in nearest_ten:\n",
    "        product_label = df.loc[point[0], 'Label']\n",
    "        product_brand = df.loc[point[0], 'brand']\n",
    "        product_price = df.loc[point[0], 'price']\n",
    "        product_rank = df.loc[point[0], 'rank']\n",
    "        product_title = df.loc[point[0], 'name']\n",
    "        product_skintype = df.loc[point[0], 'skintype']\n",
    "        distance = point[1]\n",
    "        recommended_products.append(\n",
    "            (product_title, product_label, product_brand, product_price,\n",
    "             product_rank, product_skintype, distance))\n",
    "\n",
    "    for product in recommended_products:\n",
    "        print(\n",
    "            f'{product[0]} ({product[1]}, {product[2]}, {product[3]}£, {product[4]}, [{product[5]}]), Distance: {product[6]}'\n",
    "        )\n"
   ]
  },
  {
   "cell_type": "code",
   "execution_count": 266,
   "metadata": {},
   "outputs": [
    {
     "name": "stdout",
     "output_type": "stream",
     "text": [
      "5 Nearest Points in Cluster 0 to 'Treatment Cleansing Foam (Cleanser, AMOREPACIFIC, 50£, 4.5, [C,N,O])':\n",
      "The True Tincture Mask - Chamomile (Face Mask, BELIF, 36£, 4.3, [D,N,S]), Distance: 5.761369622614964\n",
      "The True Cream Aqua Bomb (Moisturizer, BELIF, 38£, 4.5, [C,N,O]), Distance: 5.836951116015325\n",
      "The True Cream Moisturizing Bomb (Moisturizer, BELIF, 38£, 4.6, [D,N]), Distance: 6.090527434993914\n",
      "Ever-Matte Poreless Priming Perfector (Treatment, BECCA, 38£, 3.6, [C,O]), Distance: 6.6375155660301575\n",
      "Soothing & Healing Green Tea Splash Mask (Face Mask, BLITHE, 45£, 4.6, [C,N,O]), Distance: 9.221533418777966\n"
     ]
    }
   ],
   "source": [
    "recommendations(\"Treatment Cleansing Foam\")"
   ]
  },
  {
   "cell_type": "code",
   "execution_count": 244,
   "metadata": {},
   "outputs": [
    {
     "name": "stdout",
     "output_type": "stream",
     "text": [
      "5 Nearest Points in Cluster 2 to 'Sheer Mineral Sun Spray SPF 50 (Sun protect, DR. DENNIS GROSS SKINCARE, 42£, 4.1, [NO])':\n",
      "Dark Spot Sun Defense Broad Spectrum SPF 50 (Sun protect, DR. DENNIS GROSS SKINCARE, 42£, 3.8, [NO]), Distance: 0.4698243830931915\n",
      "Hyaluronic Marine Hydration Booster (Treatment, DR. DENNIS GROSS SKINCARE, 68£, 4.4, [NO]), Distance: 1.2447241565385614\n",
      "Premium Beauty Balm SPF 45 (Moisturizer, DR. JART+, 39£, 4.2, [NO]), Distance: 1.424394959740108\n",
      "Clarifying Colloidal Sulfur Mask (Face Mask, DR. DENNIS GROSS SKINCARE, 42£, 4.3, [NO]), Distance: 2.0243775395523325\n",
      "Instant Radiance Sun Defense Sunscreen Broad Spectrum SPF 40 (Sun protect, DR. DENNIS GROSS SKINCARE, 42£, 3.9, [C,D,N,O,S]), Distance: 2.257898231241602\n"
     ]
    }
   ],
   "source": [
    "recommendations(\"Sheer Mineral Sun Spray SPF 50\")"
   ]
  },
  {
   "cell_type": "code",
   "execution_count": 245,
   "metadata": {},
   "outputs": [
    {
     "name": "stdout",
     "output_type": "stream",
     "text": [
      "5 Nearest Points in Cluster 2 to 'Rejuvenating Serum (Treatment, TATA HARPER, 110£, 3.7, [C,D,N,O,S])':\n",
      "Resurfacing Serum (Treatment, TATA HARPER, 88£, 4.2, [C,D,N,O,S]), Distance: 0.9210997822040633\n",
      "Silken Pore Perfecting Sunscreen Broad Spectrum SPF 35 PA+++ (Sun protect, TATCHA, 65£, 4.5, [C,D,N,O,S]), Distance: 2.134015531459678\n",
      "Tarteguard 20 Tinted Moisturizer Broad Spectrum SPF 20 Sunscreen (Sun protect, TARTE, 36£, 4.0, [C,D,N,O,S]), Distance: 2.209664209245963\n",
      "Tarteguard 30 Vegan Sunscreen Lotion Broad Spectrum SPF 30 (Sun protect, TARTE, 32£, 3.7, [C,D,N,O,S]), Distance: 2.2265285702850535\n",
      "Tarteguard Mineral Powder Sunscreen Broad Spectrum SPF 30 (Sun protect, TARTE, 28£, 4.2, [C,D,N,O,S]), Distance: 2.425218713447081\n"
     ]
    }
   ],
   "source": [
    "recommendations(\"Rejuvenating Serum\")"
   ]
  },
  {
   "cell_type": "code",
   "execution_count": 246,
   "metadata": {},
   "outputs": [
    {
     "name": "stdout",
     "output_type": "stream",
     "text": [
      "5 Nearest Points in Cluster 2 to 'The Moisturizing Soft Cream (Moisturizer, LA MER, 175£, 3.8, [C,D,N,O,S])':\n",
      "Crème de la Mer (Moisturizer, LA MER, 175£, 4.1, [C,D,N,O,S]), Distance: 0.4698243830931915\n",
      "The Moisturizing Cool Gel Cream (Moisturizer, LA MER, 175£, 3.3, [C,D,N,O,S]), Distance: 0.7830406384886529\n",
      "The Renewal Oil Mini (Moisturizer, LA MER, 130£, 4.0, [C,D,N,O,S]), Distance: 1.0404114324880378\n",
      "Treatment Lotion Hydrating Mask (Face Mask, LA MER, 150£, 4.1, [C,D,N,O,S]), Distance: 1.234725536463779\n",
      "The Renewal Oil (Moisturizer, LA MER, 245£, 4.2, [C,D,N,O,S]), Distance: 1.665624607839136\n"
     ]
    }
   ],
   "source": [
    "recommendations(\"The Moisturizing Soft Cream\")"
   ]
  },
  {
   "attachments": {},
   "cell_type": "markdown",
   "metadata": {},
   "source": [
    "GMM with reducted ingredients"
   ]
  },
  {
   "cell_type": "code",
   "execution_count": 151,
   "metadata": {},
   "outputs": [
    {
     "data": {
      "text/html": [
       "<div>\n",
       "<style scoped>\n",
       "    .dataframe tbody tr th:only-of-type {\n",
       "        vertical-align: middle;\n",
       "    }\n",
       "\n",
       "    .dataframe tbody tr th {\n",
       "        vertical-align: top;\n",
       "    }\n",
       "\n",
       "    .dataframe thead th {\n",
       "        text-align: right;\n",
       "    }\n",
       "</style>\n",
       "<table border=\"1\" class=\"dataframe\">\n",
       "  <thead>\n",
       "    <tr style=\"text-align: right;\">\n",
       "      <th></th>\n",
       "      <th>name</th>\n",
       "      <th>umap_comp_1</th>\n",
       "      <th>umap_comp_2</th>\n",
       "      <th>umap_comp_3</th>\n",
       "    </tr>\n",
       "  </thead>\n",
       "  <tbody>\n",
       "    <tr>\n",
       "      <th>0</th>\n",
       "      <td>GENIUS Ultimate Anti-Aging Melting Cleanser</td>\n",
       "      <td>25.197624</td>\n",
       "      <td>11.607482</td>\n",
       "      <td>-19.145840</td>\n",
       "    </tr>\n",
       "    <tr>\n",
       "      <th>1</th>\n",
       "      <td>Hydrating Essence Toner</td>\n",
       "      <td>25.695068</td>\n",
       "      <td>12.216971</td>\n",
       "      <td>-17.314213</td>\n",
       "    </tr>\n",
       "    <tr>\n",
       "      <th>2</th>\n",
       "      <td>Multi-Perfecting Detoxifying Exfoliator</td>\n",
       "      <td>26.186981</td>\n",
       "      <td>11.794188</td>\n",
       "      <td>-17.877375</td>\n",
       "    </tr>\n",
       "    <tr>\n",
       "      <th>3</th>\n",
       "      <td>Treatment Cleansing Foam</td>\n",
       "      <td>24.137400</td>\n",
       "      <td>10.941088</td>\n",
       "      <td>-18.118677</td>\n",
       "    </tr>\n",
       "    <tr>\n",
       "      <th>4</th>\n",
       "      <td>Treatment Enzyme Peel</td>\n",
       "      <td>23.696272</td>\n",
       "      <td>11.623331</td>\n",
       "      <td>-19.437582</td>\n",
       "    </tr>\n",
       "    <tr>\n",
       "      <th>...</th>\n",
       "      <td>...</td>\n",
       "      <td>...</td>\n",
       "      <td>...</td>\n",
       "      <td>...</td>\n",
       "    </tr>\n",
       "    <tr>\n",
       "      <th>1421</th>\n",
       "      <td>Rejuvenating Serum</td>\n",
       "      <td>24.553234</td>\n",
       "      <td>10.302903</td>\n",
       "      <td>-19.850400</td>\n",
       "    </tr>\n",
       "    <tr>\n",
       "      <th>1422</th>\n",
       "      <td>Resurfacing Serum</td>\n",
       "      <td>24.608452</td>\n",
       "      <td>10.334100</td>\n",
       "      <td>-19.819975</td>\n",
       "    </tr>\n",
       "    <tr>\n",
       "      <th>1423</th>\n",
       "      <td>Luminous Deep Hydration Firming Serum</td>\n",
       "      <td>25.822046</td>\n",
       "      <td>12.765291</td>\n",
       "      <td>-18.944390</td>\n",
       "    </tr>\n",
       "    <tr>\n",
       "      <th>1424</th>\n",
       "      <td>Snow Mushroom Water Serum</td>\n",
       "      <td>25.009855</td>\n",
       "      <td>12.462429</td>\n",
       "      <td>-18.501976</td>\n",
       "    </tr>\n",
       "    <tr>\n",
       "      <th>1425</th>\n",
       "      <td>Superfood Firm and Brighten Vitamin C Serum</td>\n",
       "      <td>27.119236</td>\n",
       "      <td>12.834366</td>\n",
       "      <td>-17.950712</td>\n",
       "    </tr>\n",
       "  </tbody>\n",
       "</table>\n",
       "<p>1426 rows × 4 columns</p>\n",
       "</div>"
      ],
      "text/plain": [
       "                                             name  umap_comp_1  umap_comp_2  \\\n",
       "0     GENIUS Ultimate Anti-Aging Melting Cleanser    25.197624    11.607482   \n",
       "1                         Hydrating Essence Toner    25.695068    12.216971   \n",
       "2         Multi-Perfecting Detoxifying Exfoliator    26.186981    11.794188   \n",
       "3                        Treatment Cleansing Foam    24.137400    10.941088   \n",
       "4                           Treatment Enzyme Peel    23.696272    11.623331   \n",
       "...                                           ...          ...          ...   \n",
       "1421                           Rejuvenating Serum    24.553234    10.302903   \n",
       "1422                            Resurfacing Serum    24.608452    10.334100   \n",
       "1423        Luminous Deep Hydration Firming Serum    25.822046    12.765291   \n",
       "1424                    Snow Mushroom Water Serum    25.009855    12.462429   \n",
       "1425  Superfood Firm and Brighten Vitamin C Serum    27.119236    12.834366   \n",
       "\n",
       "      umap_comp_3  \n",
       "0      -19.145840  \n",
       "1      -17.314213  \n",
       "2      -17.877375  \n",
       "3      -18.118677  \n",
       "4      -19.437582  \n",
       "...           ...  \n",
       "1421   -19.850400  \n",
       "1422   -19.819975  \n",
       "1423   -18.944390  \n",
       "1424   -18.501976  \n",
       "1425   -17.950712  \n",
       "\n",
       "[1426 rows x 4 columns]"
      ]
     },
     "execution_count": 151,
     "metadata": {},
     "output_type": "execute_result"
    }
   ],
   "source": [
    "df_umap = pd.read_csv(\"umap_dataset.csv\")\n",
    "df_umap = df_umap[[\n",
    "    'name', 'umap_comp_1', 'umap_comp_2', 'umap_comp_3'\n",
    "]]\n",
    "df_umap"
   ]
  },
  {
   "cell_type": "code",
   "execution_count": 152,
   "metadata": {},
   "outputs": [
    {
     "data": {
      "text/html": [
       "<div>\n",
       "<style scoped>\n",
       "    .dataframe tbody tr th:only-of-type {\n",
       "        vertical-align: middle;\n",
       "    }\n",
       "\n",
       "    .dataframe tbody tr th {\n",
       "        vertical-align: top;\n",
       "    }\n",
       "\n",
       "    .dataframe thead th {\n",
       "        text-align: right;\n",
       "    }\n",
       "</style>\n",
       "<table border=\"1\" class=\"dataframe\">\n",
       "  <thead>\n",
       "    <tr style=\"text-align: right;\">\n",
       "      <th></th>\n",
       "      <th>Label</th>\n",
       "      <th>brand</th>\n",
       "      <th>name</th>\n",
       "      <th>price</th>\n",
       "      <th>rank</th>\n",
       "      <th>Combination</th>\n",
       "      <th>Dry</th>\n",
       "      <th>Normal</th>\n",
       "      <th>Oily</th>\n",
       "      <th>Sensitive</th>\n",
       "    </tr>\n",
       "  </thead>\n",
       "  <tbody>\n",
       "    <tr>\n",
       "      <th>0</th>\n",
       "      <td>0</td>\n",
       "      <td>0</td>\n",
       "      <td>GENIUS Ultimate Anti-Aging Melting Cleanser</td>\n",
       "      <td>38</td>\n",
       "      <td>4.1</td>\n",
       "      <td>0</td>\n",
       "      <td>0</td>\n",
       "      <td>0</td>\n",
       "      <td>0</td>\n",
       "      <td>0</td>\n",
       "    </tr>\n",
       "    <tr>\n",
       "      <th>1</th>\n",
       "      <td>0</td>\n",
       "      <td>0</td>\n",
       "      <td>Hydrating Essence Toner</td>\n",
       "      <td>25</td>\n",
       "      <td>4.4</td>\n",
       "      <td>0</td>\n",
       "      <td>0</td>\n",
       "      <td>0</td>\n",
       "      <td>0</td>\n",
       "      <td>0</td>\n",
       "    </tr>\n",
       "    <tr>\n",
       "      <th>2</th>\n",
       "      <td>0</td>\n",
       "      <td>0</td>\n",
       "      <td>Multi-Perfecting Detoxifying Exfoliator</td>\n",
       "      <td>38</td>\n",
       "      <td>4.6</td>\n",
       "      <td>0</td>\n",
       "      <td>0</td>\n",
       "      <td>0</td>\n",
       "      <td>0</td>\n",
       "      <td>0</td>\n",
       "    </tr>\n",
       "    <tr>\n",
       "      <th>3</th>\n",
       "      <td>0</td>\n",
       "      <td>1</td>\n",
       "      <td>Treatment Cleansing Foam</td>\n",
       "      <td>50</td>\n",
       "      <td>4.5</td>\n",
       "      <td>1</td>\n",
       "      <td>0</td>\n",
       "      <td>1</td>\n",
       "      <td>1</td>\n",
       "      <td>0</td>\n",
       "    </tr>\n",
       "    <tr>\n",
       "      <th>4</th>\n",
       "      <td>0</td>\n",
       "      <td>1</td>\n",
       "      <td>Treatment Enzyme Peel</td>\n",
       "      <td>60</td>\n",
       "      <td>4.7</td>\n",
       "      <td>1</td>\n",
       "      <td>1</td>\n",
       "      <td>1</td>\n",
       "      <td>1</td>\n",
       "      <td>1</td>\n",
       "    </tr>\n",
       "  </tbody>\n",
       "</table>\n",
       "</div>"
      ],
      "text/plain": [
       "   Label  brand                                         name  price  rank  \\\n",
       "0      0      0  GENIUS Ultimate Anti-Aging Melting Cleanser     38   4.1   \n",
       "1      0      0                      Hydrating Essence Toner     25   4.4   \n",
       "2      0      0      Multi-Perfecting Detoxifying Exfoliator     38   4.6   \n",
       "3      0      1                     Treatment Cleansing Foam     50   4.5   \n",
       "4      0      1                        Treatment Enzyme Peel     60   4.7   \n",
       "\n",
       "   Combination  Dry  Normal  Oily  Sensitive  \n",
       "0            0    0       0     0          0  \n",
       "1            0    0       0     0          0  \n",
       "2            0    0       0     0          0  \n",
       "3            1    0       1     1          0  \n",
       "4            1    1       1     1          1  "
      ]
     },
     "execution_count": 152,
     "metadata": {},
     "output_type": "execute_result"
    }
   ],
   "source": [
    "df3 = df.drop(['ingredients', 'skintype'], axis=1)\n",
    "X2 = df3.copy()\n",
    "\n",
    "le = LabelEncoder()\n",
    "X2['Label'] = le.fit_transform(X2['Label'])\n",
    "X2['brand'] = le.fit_transform(X2['brand'])\n",
    "df3['Label'] = le.fit_transform(df3['Label'])\n",
    "X2.head()\n"
   ]
  },
  {
   "cell_type": "code",
   "execution_count": 153,
   "metadata": {},
   "outputs": [
    {
     "data": {
      "text/html": [
       "<div>\n",
       "<style scoped>\n",
       "    .dataframe tbody tr th:only-of-type {\n",
       "        vertical-align: middle;\n",
       "    }\n",
       "\n",
       "    .dataframe tbody tr th {\n",
       "        vertical-align: top;\n",
       "    }\n",
       "\n",
       "    .dataframe thead th {\n",
       "        text-align: right;\n",
       "    }\n",
       "</style>\n",
       "<table border=\"1\" class=\"dataframe\">\n",
       "  <thead>\n",
       "    <tr style=\"text-align: right;\">\n",
       "      <th></th>\n",
       "      <th>Label</th>\n",
       "      <th>brand</th>\n",
       "      <th>name</th>\n",
       "      <th>price</th>\n",
       "      <th>rank</th>\n",
       "      <th>Combination</th>\n",
       "      <th>Dry</th>\n",
       "      <th>Normal</th>\n",
       "      <th>Oily</th>\n",
       "      <th>Sensitive</th>\n",
       "      <th>umap_comp_1</th>\n",
       "      <th>umap_comp_2</th>\n",
       "      <th>umap_comp_3</th>\n",
       "    </tr>\n",
       "  </thead>\n",
       "  <tbody>\n",
       "    <tr>\n",
       "      <th>0</th>\n",
       "      <td>0</td>\n",
       "      <td>0</td>\n",
       "      <td>GENIUS Ultimate Anti-Aging Melting Cleanser</td>\n",
       "      <td>38</td>\n",
       "      <td>4.1</td>\n",
       "      <td>0</td>\n",
       "      <td>0</td>\n",
       "      <td>0</td>\n",
       "      <td>0</td>\n",
       "      <td>0</td>\n",
       "      <td>25.197624</td>\n",
       "      <td>11.607482</td>\n",
       "      <td>-19.145840</td>\n",
       "    </tr>\n",
       "    <tr>\n",
       "      <th>1</th>\n",
       "      <td>0</td>\n",
       "      <td>0</td>\n",
       "      <td>Hydrating Essence Toner</td>\n",
       "      <td>25</td>\n",
       "      <td>4.4</td>\n",
       "      <td>0</td>\n",
       "      <td>0</td>\n",
       "      <td>0</td>\n",
       "      <td>0</td>\n",
       "      <td>0</td>\n",
       "      <td>25.695068</td>\n",
       "      <td>12.216971</td>\n",
       "      <td>-17.314213</td>\n",
       "    </tr>\n",
       "    <tr>\n",
       "      <th>2</th>\n",
       "      <td>0</td>\n",
       "      <td>0</td>\n",
       "      <td>Multi-Perfecting Detoxifying Exfoliator</td>\n",
       "      <td>38</td>\n",
       "      <td>4.6</td>\n",
       "      <td>0</td>\n",
       "      <td>0</td>\n",
       "      <td>0</td>\n",
       "      <td>0</td>\n",
       "      <td>0</td>\n",
       "      <td>26.186981</td>\n",
       "      <td>11.794188</td>\n",
       "      <td>-17.877375</td>\n",
       "    </tr>\n",
       "    <tr>\n",
       "      <th>3</th>\n",
       "      <td>0</td>\n",
       "      <td>1</td>\n",
       "      <td>Treatment Cleansing Foam</td>\n",
       "      <td>50</td>\n",
       "      <td>4.5</td>\n",
       "      <td>1</td>\n",
       "      <td>0</td>\n",
       "      <td>1</td>\n",
       "      <td>1</td>\n",
       "      <td>0</td>\n",
       "      <td>24.137400</td>\n",
       "      <td>10.941088</td>\n",
       "      <td>-18.118677</td>\n",
       "    </tr>\n",
       "    <tr>\n",
       "      <th>4</th>\n",
       "      <td>0</td>\n",
       "      <td>1</td>\n",
       "      <td>Treatment Enzyme Peel</td>\n",
       "      <td>60</td>\n",
       "      <td>4.7</td>\n",
       "      <td>1</td>\n",
       "      <td>1</td>\n",
       "      <td>1</td>\n",
       "      <td>1</td>\n",
       "      <td>1</td>\n",
       "      <td>23.696272</td>\n",
       "      <td>11.623331</td>\n",
       "      <td>-19.437582</td>\n",
       "    </tr>\n",
       "  </tbody>\n",
       "</table>\n",
       "</div>"
      ],
      "text/plain": [
       "   Label  brand                                         name  price  rank  \\\n",
       "0      0      0  GENIUS Ultimate Anti-Aging Melting Cleanser     38   4.1   \n",
       "1      0      0                      Hydrating Essence Toner     25   4.4   \n",
       "2      0      0      Multi-Perfecting Detoxifying Exfoliator     38   4.6   \n",
       "3      0      1                     Treatment Cleansing Foam     50   4.5   \n",
       "4      0      1                        Treatment Enzyme Peel     60   4.7   \n",
       "\n",
       "   Combination  Dry  Normal  Oily  Sensitive  umap_comp_1  umap_comp_2  \\\n",
       "0            0    0       0     0          0    25.197624    11.607482   \n",
       "1            0    0       0     0          0    25.695068    12.216971   \n",
       "2            0    0       0     0          0    26.186981    11.794188   \n",
       "3            1    0       1     1          0    24.137400    10.941088   \n",
       "4            1    1       1     1          1    23.696272    11.623331   \n",
       "\n",
       "   umap_comp_3  \n",
       "0   -19.145840  \n",
       "1   -17.314213  \n",
       "2   -17.877375  \n",
       "3   -18.118677  \n",
       "4   -19.437582  "
      ]
     },
     "execution_count": 153,
     "metadata": {},
     "output_type": "execute_result"
    }
   ],
   "source": [
    "X2 = X2.merge(df_umap, on='name')\n",
    "X2.head()"
   ]
  },
  {
   "cell_type": "code",
   "execution_count": 154,
   "metadata": {},
   "outputs": [],
   "source": [
    "X2 = X2.drop('name', axis=1)"
   ]
  },
  {
   "cell_type": "code",
   "execution_count": 155,
   "metadata": {},
   "outputs": [
    {
     "data": {
      "text/html": [
       "<div>\n",
       "<style scoped>\n",
       "    .dataframe tbody tr th:only-of-type {\n",
       "        vertical-align: middle;\n",
       "    }\n",
       "\n",
       "    .dataframe tbody tr th {\n",
       "        vertical-align: top;\n",
       "    }\n",
       "\n",
       "    .dataframe thead th {\n",
       "        text-align: right;\n",
       "    }\n",
       "</style>\n",
       "<table border=\"1\" class=\"dataframe\">\n",
       "  <thead>\n",
       "    <tr style=\"text-align: right;\">\n",
       "      <th></th>\n",
       "      <th>Label</th>\n",
       "      <th>brand</th>\n",
       "      <th>price</th>\n",
       "      <th>rank</th>\n",
       "      <th>Combination</th>\n",
       "      <th>Dry</th>\n",
       "      <th>Normal</th>\n",
       "      <th>Oily</th>\n",
       "      <th>Sensitive</th>\n",
       "      <th>umap_comp_1</th>\n",
       "      <th>umap_comp_2</th>\n",
       "      <th>umap_comp_3</th>\n",
       "    </tr>\n",
       "  </thead>\n",
       "  <tbody>\n",
       "    <tr>\n",
       "      <th>0</th>\n",
       "      <td>0</td>\n",
       "      <td>0</td>\n",
       "      <td>-0.390952</td>\n",
       "      <td>-0.080830</td>\n",
       "      <td>0</td>\n",
       "      <td>0</td>\n",
       "      <td>0</td>\n",
       "      <td>0</td>\n",
       "      <td>0</td>\n",
       "      <td>0.322372</td>\n",
       "      <td>0.016629</td>\n",
       "      <td>-0.450137</td>\n",
       "    </tr>\n",
       "    <tr>\n",
       "      <th>1</th>\n",
       "      <td>0</td>\n",
       "      <td>0</td>\n",
       "      <td>-0.677571</td>\n",
       "      <td>0.388994</td>\n",
       "      <td>0</td>\n",
       "      <td>0</td>\n",
       "      <td>0</td>\n",
       "      <td>0</td>\n",
       "      <td>0</td>\n",
       "      <td>0.374878</td>\n",
       "      <td>0.632272</td>\n",
       "      <td>-0.244018</td>\n",
       "    </tr>\n",
       "    <tr>\n",
       "      <th>2</th>\n",
       "      <td>0</td>\n",
       "      <td>0</td>\n",
       "      <td>-0.390952</td>\n",
       "      <td>0.702211</td>\n",
       "      <td>0</td>\n",
       "      <td>0</td>\n",
       "      <td>0</td>\n",
       "      <td>0</td>\n",
       "      <td>0</td>\n",
       "      <td>0.426799</td>\n",
       "      <td>0.205220</td>\n",
       "      <td>-0.307392</td>\n",
       "    </tr>\n",
       "    <tr>\n",
       "      <th>3</th>\n",
       "      <td>0</td>\n",
       "      <td>1</td>\n",
       "      <td>-0.126380</td>\n",
       "      <td>0.545603</td>\n",
       "      <td>1</td>\n",
       "      <td>0</td>\n",
       "      <td>1</td>\n",
       "      <td>1</td>\n",
       "      <td>0</td>\n",
       "      <td>0.210464</td>\n",
       "      <td>-0.656494</td>\n",
       "      <td>-0.334547</td>\n",
       "    </tr>\n",
       "    <tr>\n",
       "      <th>4</th>\n",
       "      <td>0</td>\n",
       "      <td>1</td>\n",
       "      <td>0.094097</td>\n",
       "      <td>0.858819</td>\n",
       "      <td>1</td>\n",
       "      <td>1</td>\n",
       "      <td>1</td>\n",
       "      <td>1</td>\n",
       "      <td>1</td>\n",
       "      <td>0.163903</td>\n",
       "      <td>0.032638</td>\n",
       "      <td>-0.482967</td>\n",
       "    </tr>\n",
       "  </tbody>\n",
       "</table>\n",
       "</div>"
      ],
      "text/plain": [
       "   Label  brand     price      rank  Combination  Dry  Normal  Oily  \\\n",
       "0      0      0 -0.390952 -0.080830            0    0       0     0   \n",
       "1      0      0 -0.677571  0.388994            0    0       0     0   \n",
       "2      0      0 -0.390952  0.702211            0    0       0     0   \n",
       "3      0      1 -0.126380  0.545603            1    0       1     1   \n",
       "4      0      1  0.094097  0.858819            1    1       1     1   \n",
       "\n",
       "   Sensitive  umap_comp_1  umap_comp_2  umap_comp_3  \n",
       "0          0     0.322372     0.016629    -0.450137  \n",
       "1          0     0.374878     0.632272    -0.244018  \n",
       "2          0     0.426799     0.205220    -0.307392  \n",
       "3          0     0.210464    -0.656494    -0.334547  \n",
       "4          1     0.163903     0.032638    -0.482967  "
      ]
     },
     "execution_count": 155,
     "metadata": {},
     "output_type": "execute_result"
    }
   ],
   "source": [
    "cols = ['price', 'rank', 'umap_comp_1', 'umap_comp_2', 'umap_comp_3']\n",
    "from sklearn.preprocessing import StandardScaler\n",
    "\n",
    "ss = StandardScaler()\n",
    "\n",
    "X_t = ss.fit_transform(X2[cols])\n",
    "\n",
    "X2[cols] = X_t\n",
    "\n",
    "X2.head()"
   ]
  },
  {
   "cell_type": "code",
   "execution_count": 188,
   "metadata": {},
   "outputs": [],
   "source": [
    "model2 = GaussianMixture(\n",
    "    n_components=2,  # this is the number of clusters\n",
    "    covariance_type=\n",
    "    'full',  # {‘full’, ‘tied’, ‘diag’, ‘spherical’}, default=’full’\n",
    "    max_iter=300,  # the number of EM iterations to perform. default=100\n",
    "    n_init=1,  # the number of initializations to perform. default = 1\n",
    "    init_params=\n",
    "    'kmeans',  # the method used to initialize the weights, the means and the precisions. {'random' or default='k-means'}\n",
    "    verbose=0,  # default 0, {0,1,2}\n",
    "    random_state=42  # for reproducibility\n",
    ")"
   ]
  },
  {
   "cell_type": "code",
   "execution_count": 189,
   "metadata": {},
   "outputs": [],
   "source": [
    "clust2 = model2.fit(X2)"
   ]
  },
  {
   "cell_type": "code",
   "execution_count": 190,
   "metadata": {},
   "outputs": [],
   "source": [
    "labels2 = model2.predict(X2)"
   ]
  },
  {
   "cell_type": "code",
   "execution_count": 192,
   "metadata": {},
   "outputs": [],
   "source": [
    "df2['cluster_label'] = labels2"
   ]
  },
  {
   "cell_type": "code",
   "execution_count": 193,
   "metadata": {},
   "outputs": [
    {
     "name": "stdout",
     "output_type": "stream",
     "text": [
      "5 Nearest Points in Cluster 0 to 'FUTURE RESPONSE Age Defense Creme SPF 30 (Sun protect, AMOREPACIFIC, 195£, 3.8, [C,D,N,O,S])':\n",
      "FUTURE RESPONSE Age Defense Creme (Moisturizer, AMOREPACIFIC, 195£, 4.4, [C,D,N,O,S]), Distance: 1.372202537454145\n",
      "FUTURE RESPONSE Age Defense Serum (Treatment, AMOREPACIFIC, 160£, 4.2, [C,D,N,O,S]), Distance: 1.409925388625825\n",
      "Vintage Single Extract Essence (Moisturizer, AMOREPACIFIC, 145£, 4.5, [C,D,N,O]), Distance: 2.101672661280991\n",
      "GENIUS Ultimate Anti-Aging Vitamin C+ Serum (Treatment, ALGENIST, 118£, 3.9, [C,D,N,O,S]), Distance: 2.2150869406174034\n",
      "GENIUS Liquid Collagen (Treatment, ALGENIST, 115£, 4.0, [C,D,N,O,S]), Distance: 2.28235434255505\n"
     ]
    }
   ],
   "source": [
    "recommendations('FUTURE RESPONSE Age Defense Creme SPF 30')"
   ]
  },
  {
   "cell_type": "code",
   "execution_count": 170,
   "metadata": {},
   "outputs": [
    {
     "name": "stdout",
     "output_type": "stream",
     "text": [
      "5 Nearest Points in Cluster 0 to 'Rejuvenating Serum (Treatment, TATA HARPER, 110£, 3.7, [C,D,N,O,S])':\n",
      "Resurfacing Serum (Treatment, TATA HARPER, 88£, 4.2, [C,D,N,O,S]), Distance: 0.9210997822040633\n",
      "Silken Pore Perfecting Sunscreen Broad Spectrum SPF 35 PA+++ (Sun protect, TATCHA, 65£, 4.5, [C,D,N,O,S]), Distance: 2.134015531459678\n",
      "Tarteguard 20 Tinted Moisturizer Broad Spectrum SPF 20 Sunscreen (Sun protect, TARTE, 36£, 4.0, [C,D,N,O,S]), Distance: 2.209664209245963\n",
      "Tarteguard 30 Vegan Sunscreen Lotion Broad Spectrum SPF 30 (Sun protect, TARTE, 32£, 3.7, [C,D,N,O,S]), Distance: 2.2265285702850535\n",
      "Tarteguard Mineral Powder Sunscreen Broad Spectrum SPF 30 (Sun protect, TARTE, 28£, 4.2, [C,D,N,O,S]), Distance: 2.425218713447081\n"
     ]
    }
   ],
   "source": [
    "recommendations(\"Rejuvenating Serum\")"
   ]
  },
  {
   "cell_type": "code",
   "execution_count": 184,
   "metadata": {},
   "outputs": [
    {
     "data": {
      "text/plain": [
       "-0.6309424345073332"
      ]
     },
     "execution_count": 184,
     "metadata": {},
     "output_type": "execute_result"
    }
   ],
   "source": [
    "silhouette_score_average = silhouette_score(X2, model2.predict(X2))\n",
    "silhouette_score_average"
   ]
  },
  {
   "cell_type": "code",
   "execution_count": 185,
   "metadata": {},
   "outputs": [
    {
     "name": "stdout",
     "output_type": "stream",
     "text": [
      "5 Nearest Points in Cluster 12 to 'Moment of Truth™ 2-in-1 Polishing Sugar Mask (Cleanser, OLEHENRIKSEN, 42£, 4.5, [C,D,N,O,S])':\n",
      "Wonderfeel™ Double Cleanser (Cleanser, OLEHENRIKSEN, 32£, 4.4, [C,D,N,O,S]), Distance: 0.27043679034570645\n",
      "The Clean Truth™ Foaming Cleanser (Cleanser, OLEHENRIKSEN, 30£, 4.4, [C,D,N,O,S]), Distance: 0.307448266239293\n",
      "Balancing Force™ Oil Control Toner (Cleanser, OLEHENRIKSEN, 26£, 4.4, [C,D,N,O,S]), Distance: 0.3859631880820063\n",
      "Face the Truth™ Gel Cleanser (Cleanser, OLEHENRIKSEN, 24£, 4.5, [C,D,N,O,S]), Distance: 0.39685796475975754\n",
      "Transforming Walnut Scrub (Cleanser, OLEHENRIKSEN, 28£, 4.7, [C,D,N,O,S]), Distance: 0.4397498475161682\n"
     ]
    }
   ],
   "source": [
    "recommendations('Moment of Truth™ 2-in-1 Polishing Sugar Mask')"
   ]
  },
  {
   "cell_type": "code",
   "execution_count": 186,
   "metadata": {},
   "outputs": [
    {
     "name": "stdout",
     "output_type": "stream",
     "text": [
      "5 Nearest Points in Cluster 7 to 'The Moisturizing Soft Cream (Moisturizer, LA MER, 175£, 3.8, [C,D,N,O,S])':\n",
      "The Renewal Oil (Moisturizer, LA MER, 245£, 4.2, [C,D,N,O,S]), Distance: 1.665624607839136\n",
      "The Moisturizing Soft Lotion (Moisturizer, LA MER, 270£, 3.6, [C,D,N,O,S]), Distance: 2.117817882315839\n",
      "The Revitalizing Hydrating Serum (Treatment, LA MER, 205£, 4.2, [C,D,N,O,S]), Distance: 2.197704997896513\n",
      "Younger® Revealing Mask Intense (Face Mask, LANCER, 250£, 4.3, [C,D,N,O,S]), Distance: 2.312458094008741\n",
      "The Moisturizing Matte Lotion (Moisturizer, LA MER, 270£, 3.9, [N,O]), Distance: 2.722420662879596\n"
     ]
    }
   ],
   "source": [
    "recommendations(\"The Moisturizing Soft Cream\")"
   ]
  },
  {
   "cell_type": "code",
   "execution_count": 187,
   "metadata": {},
   "outputs": [
    {
     "name": "stdout",
     "output_type": "stream",
     "text": [
      "5 Nearest Points in Cluster 9 to 'Ceramidin™ Cream (Moisturizer, DR. JART+, 48£, 4.6, [C,D,N,S])':\n",
      "Black Label Detox BB Beauty Balm (Moisturizer, DR. JART+, 36£, 4.1, [C,N,S]), Distance: 1.2973630842124637\n",
      "Ceramidin™ Facial Mask (Face Mask, DR. JART+, 6£, 4.6, [C,D,N,S]), Distance: 1.3628938152764667\n",
      "Hydration Lover Rubber Mask (Face Mask, DR. JART+, 12£, 4.0, [C,D,N,S]), Distance: 1.5852207355976076\n",
      "Hyaluronic Marine Hydrating Modeling Mask (Face Mask, DR. DENNIS GROSS SKINCARE, 48£, 4.1, [C,D,N]), Distance: 1.900829461452215\n",
      "Ferulic Acid + Retinol Brightening Solution (Treatment, DR. DENNIS GROSS SKINCARE, 88£, 4.1, [C,D,N,S]), Distance: 2.52802529103423\n"
     ]
    }
   ],
   "source": [
    "recommendations('Ceramidin™ Cream')"
   ]
  }
 ],
 "metadata": {
  "kernelspec": {
   "display_name": "Python 3",
   "language": "python",
   "name": "python3"
  },
  "language_info": {
   "codemirror_mode": {
    "name": "ipython",
    "version": 3
   },
   "file_extension": ".py",
   "mimetype": "text/x-python",
   "name": "python",
   "nbconvert_exporter": "python",
   "pygments_lexer": "ipython3",
   "version": "3.10.4"
  },
  "orig_nbformat": 4
 },
 "nbformat": 4,
 "nbformat_minor": 2
}
